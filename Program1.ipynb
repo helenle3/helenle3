{
 "cells": [
  {
   "cell_type": "markdown",
   "metadata": {
    "id": "GacMba-5t1SX"
   },
   "source": [
    "# CIS 443-01 - Analytics Programming\n",
    "## Program 1\n",
    "__Worth__: 50 pts.<br />\n",
    "__Purpose__: Use a function and repetition control structure to demonstrate descriptive statistics."
   ]
  },
  {
   "cell_type": "markdown",
   "metadata": {
    "id": "WjernZjFt1Sa"
   },
   "source": [
    "### Directions\n",
    "In the code cell below, write Python code to accomplish the following using what you've learned through Chapter 4. \n",
    "\n",
    "\n",
    "#### Part 1\n",
    "\n",
    "Your code should allow the user to enter three values: a starting number, an ending value, and a basis to count by. \n",
    "\n",
    "You will cover the range provided, and calculate the descriptive statics for it. Output the following numbers to the screen following calculation:\n",
    "\n",
    "\n",
    "Mean, Median, Mode, Max, Minimum. \n",
    "\n",
    "You may accomplish this using list functions, but for this program, I would like you to use loops to accomplish this task.\n"
   ]
  },
  {
   "cell_type": "code",
   "execution_count": 3,
   "metadata": {
    "id": "8ZZORCgut1Sb"
   },
   "outputs": [
    {
     "name": "stdin",
     "output_type": "stream",
     "text": [
      "Enter a starting value:  1\n",
      "Enter an ending value:  10\n",
      "Enter a basis to count by:  1\n"
     ]
    },
    {
     "name": "stdout",
     "output_type": "stream",
     "text": [
      "Mean: 5.50\n",
      "Median: 5.50\n",
      "Mode: None\n",
      "Maximum: 10.00\n",
      "Minimum: 1.00\n"
     ]
    }
   ],
   "source": [
    "#CIS 443-01\n",
    "#By: Helen Le\n",
    "#Due Date: 2/7/25\n",
    "#This program will ask for three values from the user and calculate descriptive statistics from it.\n",
    "\n",
    "def calc_descr_stats(start, end, count):\n",
    "    numbers = []\n",
    "\n",
    "    #Loop to create the sequence; end+1 to ensure end value is included if within count basis\n",
    "    for value in range(start, end + 1, count):\n",
    "        numbers.append(value)\n",
    "\n",
    "    #for empty lists, such as if count is greater than range\n",
    "    if not numbers:\n",
    "        return None\n",
    "    return numbers\n",
    "\n",
    "def calculate_mean(numbers):\n",
    "    return sum(numbers) / len(numbers)\n",
    "\n",
    "def calculate_median(numbers):\n",
    "    numbers.sort()\n",
    "    middle = len(numbers) // 2 \n",
    "    if len(numbers) % 2 == 0: #means there will be two middle numbers and we need average of both\n",
    "        return (numbers[middle - 1] + numbers[middle]) / 2 #calculates average\n",
    "    else: #one middle number\n",
    "        return numbers[middle]\n",
    "\n",
    "#No need for mode function. Since we are counting by a basis, there will not be any repeating numbers. \n",
    "\n",
    "def calculate_max(numbers):\n",
    "    maximum = numbers[0]\n",
    "    for num in numbers:\n",
    "        if num > maximum:\n",
    "            maximum = num\n",
    "    return maximum\n",
    "\n",
    "def calculate_min(numbers):\n",
    "    minimum = numbers[0]\n",
    "    for num in numbers:\n",
    "        if num < minimum:\n",
    "            minimum = num\n",
    "    return minimum\n",
    "\n",
    "#input values\n",
    "start = int(input('Enter a starting value: '))\n",
    "end = int(input('Enter an ending value: '))\n",
    "count = int(input('Enter a basis to count by: '))\n",
    "\n",
    "#numbers list\n",
    "numbers = calc_descr_stats(start, end, count)\n",
    "\n",
    "if numbers is None:\n",
    "    print(\"The list is empty. Please check your inputs.\")\n",
    "else:\n",
    "    #calculate descriptive stats\n",
    "    mean = calculate_mean(numbers)\n",
    "    median = calculate_median(numbers)\n",
    "    maximum = calculate_max(numbers)\n",
    "    minimum = calculate_min(numbers)\n",
    "\n",
    "#display results\n",
    "print(f\"Mean: {mean:.2f}\")\n",
    "print(f\"Median: {median:.2f}\")\n",
    "print(\"Mode: None\") #Mode will always be none, as there are no repeating numbers.\n",
    "print(f\"Maximum: {maximum:.2f}\")\n",
    "print(f\"Minimum: {minimum:.2f}\")\n"
   ]
  },
  {
   "cell_type": "code",
   "execution_count": 9,
   "metadata": {
    "id": "yk3sJ9Znt1Sn",
    "jp-MarkdownHeadingCollapsed": true
   },
   "outputs": [
    {
     "name": "stdout",
     "output_type": "stream",
     "text": [
      "Mean: 4515.50\n",
      "Median: 4515.50\n",
      "Mode: None\n",
      "Maximum: 7997.00\n",
      "Minimum: 1034.00\n"
     ]
    }
   ],
   "source": [
    "#### Part 2\n",
    "#Answer the following:\n",
    "\n",
    "numbers = calc_descr_stats(1034, 7999, 3)\n",
    "\n",
    "#for the inputs 1_034, 7_999, and 3, what is the mean?\n",
    "mean = calculate_mean(numbers)\n",
    "print(f\"Mean: {mean:.2f}\")\n",
    "\n",
    "#Median?\n",
    "median = calculate_median(numbers)\n",
    "print(f\"Median: {median:.2f}\")\n",
    "\n",
    "#Mode?\n",
    "print(\"Mode: None\") #Mode will always be none as we are counting by a basis and thus, there will be no repeating numbers.\n",
    "\n",
    "#Max?\n",
    "maximum = calculate_max(numbers)\n",
    "print(f\"Maximum: {maximum:.2f}\")\n",
    "\n",
    "#Min?\n",
    "minimum = calculate_min(numbers)\n",
    "print(f\"Minimum: {minimum:.2f}\")\n",
    "\n",
    "#Double click the cell in Jupyter to edit (__5 pts.__)\n",
    "\n"
   ]
  },
  {
   "cell_type": "markdown",
   "metadata": {
    "id": "bexgWeCMt1Sn"
   },
   "source": [
    "Be sure to save and exit your Jupyter Notebook and Shutdown Jupyter Lab (from the __File__ menu) before you submit your notebook on Blackboard for grading."
   ]
  }
 ],
 "metadata": {
  "colab": {
   "collapsed_sections": [],
   "provenance": []
  },
  "kernelspec": {
   "display_name": "Python [conda env:base] *",
   "language": "python",
   "name": "conda-base-py"
  },
  "language_info": {
   "codemirror_mode": {
    "name": "ipython",
    "version": 3
   },
   "file_extension": ".py",
   "mimetype": "text/x-python",
   "name": "python",
   "nbconvert_exporter": "python",
   "pygments_lexer": "ipython3",
   "version": "3.12.7"
  }
 },
 "nbformat": 4,
 "nbformat_minor": 4
}
