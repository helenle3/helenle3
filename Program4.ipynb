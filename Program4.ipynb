{
 "cells": [
  {
   "cell_type": "markdown",
   "metadata": {
    "id": "GacMba-5t1SX"
   },
   "source": [
    "# CIS 443-01 - Analytics Programming\n",
    "## Program 4\n",
    "__Worth__: 100 pts.<br />\n",
    "__Purpose__: Use a SKLearn to build an analytic model for categorical data"
   ]
  },
  {
   "cell_type": "markdown",
   "metadata": {
    "id": "WjernZjFt1Sa"
   },
   "source": [
    "### Directions\n",
    "In the code cell below, write Python code to accomplish the following using what you've learned through the semester. \n",
    "\n",
    "\n",
    "#### Part 1\n",
    "\n",
    "Your code should use the preloaded data set to build a logistic regression model. Perform a training and testing split of this data before you create this model./ \n",
    "\n",
    "Once you have created this model, obtain all coefficients created by the model. \n",
    "\n",
    "Explain each of the two sets of coefficients, and what they mean. \n",
    "\n",
    "Score your model against the testing dataset, and explain when the score returned represents. "
   ]
  },
  {
   "cell_type": "code",
   "execution_count": 7,
   "metadata": {},
   "outputs": [],
   "source": [
    "#Provided Code\n",
    "import pandas as pd\n",
    "\n",
    "add_df = pd.read_csv('social_ads.csv')\n",
    "\n",
    "x_data = add_df[['Age','EstimatedSalary']].values.reshape(-1, 2)\n",
    "y_target = add_df.Purchased.values"
   ]
  },
  {
   "cell_type": "code",
   "execution_count": 101,
   "metadata": {
    "id": "8ZZORCgut1Sb"
   },
   "outputs": [
    {
     "name": "stdout",
     "output_type": "stream",
     "text": [
      "Coefficients: [[2.35123397e-01 3.74715887e-05]]\n",
      "\n",
      "INTERPRETATION\n",
      "The logistic regression model uses Age and Estimated Salary to predict a consumer's purchase decision (yes or no). \n",
      "The coefficient for age is approximately 0.235, meaning that as a consumer increases a year in age and gets older, \n",
      "the log-odds of making a purchase increase. Simply, older consumers are more likely to buy a product, \n",
      "so for each additional year of age, the odds of purchasing increase by about 26.5%.\n",
      "\n",
      "The coefficient for Estimated Salary is approximately 0.000037, meaning that salary has a smaller impact\n",
      "on the likelihood of purchasing, in comparison to age. For a $1,000 increase in salary,\n",
      "the odds of purchasing increase by 3.8%.\n",
      "\n",
      "In summary, Age is a stronger predictor for purchasing habits on the social media website\n",
      "than Salary.\n",
      "\n",
      "Score: 0.83\n",
      "This model correctly predicts the purchase decision 83.0% of the time.\n"
     ]
    }
   ],
   "source": [
    "# Put Program 4 Code Here. Do not create any additional code blocks or points may be deducted. \n",
    "# Program 4\n",
    "# CIS 443-01\n",
    "#By: Helen Le\n",
    "#Due Date: 4/26/2025\n",
    "#This program uses a csv file and logistic regression to use Age and Estimated Salary as predictors for a consumer's purchase decision.\n",
    "#The coefficients of the predictors are interpreted, in addition to an accuracy score.\n",
    "#A confusion matrix is then made to graph the predicted and expected values and their accuracy in a TP/TN/FP/FN matrix.\n",
    "\n",
    "\n",
    "from sklearn.model_selection import train_test_split\n",
    "from sklearn.linear_model import LogisticRegression\n",
    "\n",
    "#Train and Test Model\n",
    "x_train, x_test, y_train, y_test = train_test_split(x_data, y_target, random_state=11)\n",
    "\n",
    "#Use logistic regression since data consists of yes and no\n",
    "logreg = LogisticRegression()\n",
    "logreg.fit(x_train, y_train)\n",
    "\n",
    "print(f'Coefficients: {logreg.coef_}')\n",
    "\n",
    "print()\n",
    "print('INTERPRETATION')\n",
    "print('''The logistic regression model uses Age and Estimated Salary to predict a consumer's purchase decision (yes or no). \n",
    "The coefficient for age is approximately 0.235, meaning that as a consumer increases a year in age and gets older, \n",
    "the log-odds of making a purchase increase. Simply, older consumers are more likely to buy a product, \n",
    "so for each additional year of age, the odds of purchasing increase by about 26.5%.''')\n",
    "print()\n",
    "print('''The coefficient for Estimated Salary is approximately 0.000037, meaning that salary has a smaller impact\n",
    "on the likelihood of purchasing, in comparison to age. For a $1,000 increase in salary,\n",
    "the odds of purchasing increase by 3.8%.''')\n",
    "print()\n",
    "print('''In summary, Age is a stronger predictor for purchasing habits on the social media website\n",
    "than Salary.''')\n",
    "print()\n",
    "\n",
    "score = logreg.score(x_test, y_test)\n",
    "print(f'Score: {score}')\n",
    "print(f'This model correctly predicts the purchase decision {score * 100}% of the time.')\n"
   ]
  },
  {
   "cell_type": "markdown",
   "metadata": {
    "id": "yk3sJ9Znt1Sn"
   },
   "source": [
    "#### Part 2\n",
    "\n",
    "Use pandas and Matplotlib to create a confusion matrix of the scoring of your model. Because this is a Yes/No Questionaire, you can consider it a TP/TN/FP/FN matrix.\n",
    "\n"
   ]
  },
  {
   "cell_type": "code",
   "execution_count": 103,
   "metadata": {},
   "outputs": [
    {
     "name": "stdout",
     "output_type": "stream",
     "text": [
      "The model accurately predicted No when the actual answer was No 63 times.\n",
      "The model incorrectly predicted Yes when the actual answer was No 3 times.\n",
      "The model inaccurately predicted No when the actual answer was Yes 14 times.\n",
      "The model accurately predicted Yes when the actual answer was Yes 20 times.\n"
     ]
    },
    {
     "data": {
      "image/png": "[encoded data removed]",
      "text/plain": [
       "<Figure size 640x480 with 2 Axes>"
      ]
     },
     "metadata": {},
     "output_type": "display_data"
    }
   ],
   "source": [
    "from sklearn.metrics import confusion_matrix\n",
    "import pandas as pd\n",
    "import seaborn as sns\n",
    "\n",
    "#Form and graph confusion matrix\n",
    "y_pred = logreg.predict(x_test)\n",
    "confmatrix = confusion_matrix(y_test, y_pred)\n",
    "confusion_matrix_df = pd.DataFrame(confmatrix, index=['Actual No', 'Actual Yes'], columns=['Predicted No', 'Predicted Yes'])\n",
    "sns.heatmap(confusion_matrix_df, annot=True)\n",
    "\n",
    "#Print out interpretations of matrix using TP/TN/FP/FN\n",
    "TN, FP, FN, TP = confmatrix.ravel()\n",
    "\n",
    "print(f'The model accurately predicted No when the actual answer was No {TN} times.')\n",
    "print(f'The model incorrectly predicted Yes when the actual answer was No {FP} times.')\n",
    "print(f'The model inaccurately predicted No when the actual answer was Yes {FN} times.')\n",
    "print(f'The model accurately predicted Yes when the actual answer was Yes {TP} times.')"
   ]
  },
  {
   "cell_type": "markdown",
   "metadata": {
    "id": "bexgWeCMt1Sn"
   },
   "source": [
    "Be sure to save and exit your Jupyter Notebook and Shutdown Jupyter Lab (from the __File__ menu) before you submit your notebook on Blackboard for grading."
   ]
  }
 ],
 "metadata": {
  "colab": {
   "collapsed_sections": [],
   "provenance": []
  },
  "kernelspec": {
   "display_name": "Python [conda env:base] *",
   "language": "python",
   "name": "conda-base-py"
  },
  "language_info": {
   "codemirror_mode": {
    "name": "ipython",
    "version": 3
   },
   "file_extension": ".py",
   "mimetype": "text/x-python",
   "name": "python",
   "nbconvert_exporter": "python",
   "pygments_lexer": "ipython3",
   "version": "3.12.7"
  }
 },
 "nbformat": 4,
 "nbformat_minor": 4
}
